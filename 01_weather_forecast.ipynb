{
 "cells": [
  {
   "cell_type": "code",
   "execution_count": 1,
   "id": "2d83a8f8",
   "metadata": {},
   "outputs": [],
   "source": [
    "from agents import Agent, Runner, AsyncOpenAI, set_default_openai_client, set_default_openai_api\n",
    "from agents.tool import function_tool\n",
    "from dotenv import load_dotenv\n",
    "import os"
   ]
  },
  {
   "cell_type": "code",
   "execution_count": 2,
   "id": "6852a8ff",
   "metadata": {},
   "outputs": [],
   "source": [
    "load_dotenv()\n",
    "\n",
    "AZURE_OPENAI_ENDPOINT = os.getenv(\"AZURE_OPENAI_ENDPOINT\")\n",
    "AZURE_OPENAI_DEPLOYMENT_NAME = os.getenv(\"AZURE_OPENAI_DEPLOYMENT_NAME\")\n",
    "AZURE_OPENAI_API_VERSION = os.getenv(\"AZURE_OPENAI_API_VERSION\")\n",
    "AZURE_OPENAI_API_KEY = os.getenv(\"AZURE_OPENAI_API_KEY\")\n",
    "AZURE_OPENAI_MODEL = os.getenv(\"AZURE_OPENAI_MODEL\")\n",
    "\n",
    "OPEN_WEATHER_API_KEY = os.getenv(\"OPENWEATHER_API_KEY\")\n",
    "\n",
    "\n",
    "external_client = AsyncOpenAI(\n",
    "    api_key=AZURE_OPENAI_API_KEY,\n",
    "    base_url=f\"{AZURE_OPENAI_ENDPOINT}/openai/deployments/{AZURE_OPENAI_DEPLOYMENT_NAME}\",\n",
    "    default_headers={\"api-key\": AZURE_OPENAI_API_KEY},\n",
    "    default_query={\"api-version\": AZURE_OPENAI_API_VERSION}\n",
    ")\n",
    "\n",
    "set_default_openai_client(external_client, use_for_tracing=False)\n",
    "set_default_openai_api(\"chat_completions\")"
   ]
  },
  {
   "cell_type": "code",
   "execution_count": 3,
   "id": "a28e74dd",
   "metadata": {},
   "outputs": [],
   "source": [
    "from axios import Axios\n",
    "\n",
    "httpClient = Axios()"
   ]
  },
  {
   "cell_type": "code",
   "execution_count": 4,
   "id": "46adc5d3",
   "metadata": {},
   "outputs": [],
   "source": [
    "from pydantic import BaseModel\n",
    "\n",
    "class GeoLocation:\n",
    "  def __init__(self, name, lat, lon):\n",
    "    self.name = name\n",
    "    self.lat = lat\n",
    "    self.lon = lon\n",
    "\n",
    "  @classmethod\n",
    "  def from_json(cls, json_data: dict):\n",
    "    return cls(\n",
    "      name=json_data.get('name'),\n",
    "      lat=json_data.get('lat'),\n",
    "      lon=json_data.get('lon')\n",
    "    )\n",
    "  \n",
    "  def to_dict(self):\n",
    "    return {\n",
    "      \"name\": self.name,\n",
    "      \"lat\": self.lat,\n",
    "      \"lon\": self.lon\n",
    "    }\n",
    "\n",
    "  def __repr__(self):\n",
    "    return f\"GeoLocation(name='{self.name}', lat='{self.lat}', lon='{self.lon}')\"\n",
    "  \n",
    "\n",
    "class WeatherInfo():\n",
    "  def __init__(self, main, temp_min, temp_max):\n",
    "    self.main = main\n",
    "    self.temp_min = temp_min\n",
    "    self.temp_max = temp_max\n",
    "\n",
    "  @classmethod\n",
    "  def from_json(cls, json_data: dict):\n",
    "    weather = json_data.get('weather')\n",
    "    main = json_data.get('main')\n",
    "\n",
    "    return cls(\n",
    "      main=weather[0].get('main'),\n",
    "      temp_min=main.get('temp_min'),\n",
    "      temp_max=main.get('temp_max')\n",
    "    )\n",
    "  \n",
    "  def to_dict(self):\n",
    "    return {\n",
    "      \"main\": self.main,\n",
    "      \"temp_min\": self.temp_min,\n",
    "      \"temp_max\": self.temp_max\n",
    "    }\n",
    "  \n",
    "  def __repr__(self):\n",
    "    return f\"WeatherInfo(main='{self.main}', min='{self.temp_min}', max='{self.temp_max}')\""
   ]
  },
  {
   "cell_type": "code",
   "execution_count": 5,
   "id": "0c0ac427",
   "metadata": {},
   "outputs": [],
   "source": [
    "@function_tool\n",
    "async def get_geo(city: str):\n",
    "  \"\"\"\n",
    "  Get geolocation details of a city.\n",
    "  Parameters:\n",
    "    - city (str): The name of the city to get location info for.\n",
    "  Returns:\n",
    "    - {\"lat\": int, \"lon\": int}: Basic location info or coordinates.\n",
    "  \"\"\"\n",
    "  url = f\"http://api.openweathermap.org/geo/1.0/direct?q={city}&appid={OPEN_WEATHER_API_KEY}\"\n",
    "  response = await httpClient.aget(url)\n",
    "  geo = GeoLocation.from_json(response.data[0])\n",
    "  return geo.to_dict()\n",
    "  \n",
    "\n",
    "\n",
    "@function_tool\n",
    "async def get_forecast(lat, lon):\n",
    "  \"\"\"\n",
    "  Get weather details of a city.\n",
    "  Parameters:\n",
    "    - lat (number): Latitude of a city.\n",
    "    - lon (number): Longitude of a city.\n",
    "  Returns:\n",
    "    - {\"main\": string, \"temp_min\": number, \"temp_max\": number}: Weather info contains main, min temperature and max temperature.\n",
    "  \"\"\"\n",
    "  url=f\"https://api.openweathermap.org/data/2.5/weather?lat={lat}&lon={lon}&appid={OPEN_WEATHER_API_KEY}&units=metric\"\n",
    "  response = await httpClient.aget(url)\n",
    "  info = WeatherInfo.from_json(response.data)\n",
    "  return info.to_dict()"
   ]
  },
  {
   "cell_type": "code",
   "execution_count": 6,
   "id": "7fe0dfe7",
   "metadata": {},
   "outputs": [
    {
     "data": {
      "text/plain": [
       "'\\ngeolocation = await get_geo(\"Petaling Jaya\")\\nprint(geolocation)\\nweatherinfo = await get_forecast(geolocation)\\nprint(weatherinfo)\\n'"
      ]
     },
     "execution_count": 6,
     "metadata": {},
     "output_type": "execute_result"
    }
   ],
   "source": [
    "\"\"\"\n",
    "geolocation = await get_geo(\"Petaling Jaya\")\n",
    "print(geolocation)\n",
    "weatherinfo = await get_forecast(geolocation)\n",
    "print(weatherinfo)\n",
    "\"\"\"\n"
   ]
  },
  {
   "cell_type": "code",
   "execution_count": 7,
   "id": "9814e2b9",
   "metadata": {},
   "outputs": [],
   "source": [
    "instructions = \"\"\"\n",
    "You extract the city name from the text in any given language. \\\n",
    "You only use the given tools. \\\n",
    "You get the result using get_geo tool using the city name. \\\n",
    "You get the weather info using get_forecast using the lat and lon of get_tool result. \\\n",
    "You display the lat and lon of the get_geo. \\\n",
    "You display the weahter info of the get_forecast. \\\n",
    "You only speak Mandarin and translate the city name.\n",
    "\"\"\"\n",
    "\n",
    "chinese_agent = Agent(\n",
    "  name = \"Chinese Agent\",\n",
    "  instructions = instructions,\n",
    "  tools = [get_geo, get_forecast]\n",
    ")"
   ]
  },
  {
   "cell_type": "code",
   "execution_count": 8,
   "id": "9ac68b29",
   "metadata": {},
   "outputs": [],
   "source": [
    "import asyncio"
   ]
  },
  {
   "cell_type": "code",
   "execution_count": 9,
   "id": "3d03c6b9",
   "metadata": {},
   "outputs": [],
   "source": [
    "async def run(city: str):\n",
    "  result = await Runner.run(chinese_agent, city)\n",
    "  print(result.final_output)"
   ]
  },
  {
   "cell_type": "code",
   "execution_count": 10,
   "id": "878d22ba",
   "metadata": {},
   "outputs": [
    {
     "name": "stdout",
     "output_type": "stream",
     "text": [
      "城市的名字是八打灵再也。 \n",
      "\n",
      "八打灵再也的地理坐标为：  \n",
      "纬度：3.0991752  \n",
      "经度：101.6450232  \n",
      "\n",
      "今天的天气为：多云  \n",
      "最低气温：32.52°C  \n",
      "最高气温：34.81°C  \n"
     ]
    }
   ],
   "source": [
    "await run('What is the weather for Petaling Jaya today?')"
   ]
  }
 ],
 "metadata": {
  "kernelspec": {
   "display_name": ".venv",
   "language": "python",
   "name": "python3"
  },
  "language_info": {
   "codemirror_mode": {
    "name": "ipython",
    "version": 3
   },
   "file_extension": ".py",
   "mimetype": "text/x-python",
   "name": "python",
   "nbconvert_exporter": "python",
   "pygments_lexer": "ipython3",
   "version": "3.12.5"
  }
 },
 "nbformat": 4,
 "nbformat_minor": 5
}

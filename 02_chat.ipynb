{
 "cells": [
  {
   "cell_type": "code",
   "execution_count": 92,
   "id": "8efbf6b3",
   "metadata": {},
   "outputs": [],
   "source": [
    "from agents import Agent, handoff, RunContextWrapper, Runner, AsyncOpenAI, set_default_openai_client, set_default_openai_api\n",
    "from agents.tool import function_tool\n",
    "from agents.extensions.handoff_prompt import RECOMMENDED_PROMPT_PREFIX\n",
    "from dotenv import load_dotenv\n",
    "import os\n",
    "import asyncio\n",
    "import gradio as gr\n"
   ]
  },
  {
   "cell_type": "code",
   "execution_count": 93,
   "id": "cd8d126e",
   "metadata": {},
   "outputs": [],
   "source": [
    "load_dotenv()\n",
    "\n",
    "AZURE_OPENAI_ENDPOINT = os.getenv(\"AZURE_OPENAI_ENDPOINT\")\n",
    "AZURE_OPENAI_DEPLOYMENT_NAME = os.getenv(\"AZURE_OPENAI_DEPLOYMENT_NAME\")\n",
    "AZURE_OPENAI_API_VERSION = os.getenv(\"AZURE_OPENAI_API_VERSION\")\n",
    "AZURE_OPENAI_API_KEY = os.getenv(\"AZURE_OPENAI_API_KEY\")\n",
    "AZURE_OPENAI_MODEL = os.getenv(\"AZURE_OPENAI_MODEL\")\n",
    "\n",
    "OPEN_WEATHER_API_KEY = os.getenv(\"OPENWEATHER_API_KEY\")\n",
    "\n",
    "\n",
    "external_client = AsyncOpenAI(\n",
    "    api_key=AZURE_OPENAI_API_KEY,\n",
    "    base_url=f\"{AZURE_OPENAI_ENDPOINT}/openai/deployments/{AZURE_OPENAI_DEPLOYMENT_NAME}\",\n",
    "    default_headers={\"api-key\": AZURE_OPENAI_API_KEY},\n",
    "    default_query={\"api-version\": AZURE_OPENAI_API_VERSION}\n",
    ")\n",
    "\n",
    "set_default_openai_client(external_client, use_for_tracing=False)\n",
    "set_default_openai_api(\"chat_completions\")"
   ]
  },
  {
   "cell_type": "code",
   "execution_count": 94,
   "id": "a8382140",
   "metadata": {},
   "outputs": [],
   "source": [
    "from axios import Axios\n",
    "\n",
    "httpClient = Axios()"
   ]
  },
  {
   "cell_type": "code",
   "execution_count": 95,
   "id": "bb2f5bfe",
   "metadata": {},
   "outputs": [],
   "source": [
    "class GeoLocation:\n",
    "  def __init__(self, name, lat, lon):\n",
    "    self.name = name\n",
    "    self.lat = lat\n",
    "    self.lon = lon\n",
    "\n",
    "  @classmethod\n",
    "  def from_json(cls, json_data: dict):\n",
    "    return cls(\n",
    "      name=json_data.get('name'),\n",
    "      lat=json_data.get('lat'),\n",
    "      lon=json_data.get('lon')\n",
    "    )\n",
    "  \n",
    "  def to_dict(self):\n",
    "    return {\n",
    "      \"name\": self.name,\n",
    "      \"lat\": self.lat,\n",
    "      \"lon\": self.lon\n",
    "    }\n",
    "\n",
    "  def __repr__(self):\n",
    "    return f\"GeoLocation(name='{self.name}', lat='{self.lat}', lon='{self.lon}')\"\n",
    "  \n",
    "\n",
    "@function_tool\n",
    "async def get_geo(city: str):\n",
    "  \"\"\"\n",
    "  Get geolocation details of a city.\n",
    "  Parameters:\n",
    "    - city (str): The name of the city to get location info for.\n",
    "  Returns:\n",
    "    - {\"lat\": float, \"lon\": float}: Basic location info or coordinates.\n",
    "  \"\"\"\n",
    "  url = f\"http://api.openweathermap.org/geo/1.0/direct?q={city}&appid={OPEN_WEATHER_API_KEY}\"\n",
    "  response = await httpClient.aget(url)\n",
    "  geo = GeoLocation.from_json(response.data[0])\n",
    "  print(geo)\n",
    "  return geo.to_dict()\n"
   ]
  },
  {
   "cell_type": "code",
   "execution_count": 96,
   "id": "395963c1",
   "metadata": {},
   "outputs": [],
   "source": [
    "class WeatherInfo():\n",
    "  def __init__(self, main, temp_min, temp_max):\n",
    "    self.main = main\n",
    "    self.temp_min = temp_min\n",
    "    self.temp_max = temp_max\n",
    "\n",
    "  @classmethod\n",
    "  def from_json(cls, json_data: dict):\n",
    "    weather = json_data.get('weather')\n",
    "    main = json_data.get('main')\n",
    "\n",
    "    return cls(\n",
    "      main=weather[0].get('main'),\n",
    "      temp_min=main.get('temp_min'),\n",
    "      temp_max=main.get('temp_max')\n",
    "    )\n",
    "  \n",
    "  def to_dict(self):\n",
    "    return {\n",
    "      \"main\": self.main,\n",
    "      \"temp_min\": self.temp_min,\n",
    "      \"temp_max\": self.temp_max\n",
    "    }\n",
    "  \n",
    "  def __repr__(self):\n",
    "    return f\"WeatherInfo(main='{self.main}', min='{self.temp_min}', max='{self.temp_max}')\"\n",
    "\n",
    " \n",
    "@function_tool\n",
    "async def get_forecast(lat: float, lon: float):\n",
    "  \"\"\"\n",
    "  Get weather details of a city.\n",
    "  Parameters:\n",
    "    - lat (float): Latitude of a city.\n",
    "    - lon (float): Longitude of a city.\n",
    "  Returns:\n",
    "    - {\"main\": string, \"temp_min\": number, \"temp_max\": number}: Weather info contains main, min temperature and max temperature.\n",
    "  \"\"\"\n",
    "  url=f\"https://api.openweathermap.org/data/2.5/weather?lat={lat}&lon={lon}&appid={OPEN_WEATHER_API_KEY}&units=metric\"\n",
    "  response = await httpClient.aget(url)\n",
    "  info = WeatherInfo.from_json(response.data)\n",
    "  print(info)\n",
    "  return info.to_dict()  "
   ]
  },
  {
   "cell_type": "code",
   "execution_count": 97,
   "id": "2ca14d23",
   "metadata": {},
   "outputs": [],
   "source": [
    "geo_instruction = f\"\"\"\n",
    "{RECOMMENDED_PROMPT_PREFIX} \\\n",
    "You extract the city name from the text in any given language. \\\n",
    "You only use the given tools. \\\n",
    "You get the result using get_geo tool using the city name. \\\n",
    "Transfer back the lat and lon to Forecast agent once done.\n",
    "\"\"\"\n",
    "\n",
    "geo_agent = Agent(\n",
    "  name = \"Geo Agent\",\n",
    "  instructions = geo_instruction,\n",
    "  tools = [get_geo]\n",
    ")\n",
    "\n",
    "weather_instruction = f\"\"\"\n",
    "{RECOMMENDED_PROMPT_PREFIX} \\\n",
    "You find the weather info using a given lat and lon. \\\n",
    "You only use the given tools. \\\n",
    "Given the lat and lon you find the weather info using get_forecast \\\n",
    "Transfer back the result to Forecast agent once done.\n",
    "\"\"\"\n",
    "\n",
    "weather_agent = Agent(\n",
    "  name = \"Weather Agent\",\n",
    "  instructions = weather_instruction,\n",
    "  tools = [get_forecast]\n",
    ")\n",
    "\n",
    "\n",
    "instructions = f\"\"\"\n",
    "{RECOMMENDED_PROMPT_PREFIX}\n",
    "You are a weather forecast agent. You try to understand the user's prompt in any language.\n",
    "You are not allowed to solve the task yourself. You only delegate (handoff) tasks to Geo Agent or Weather Agent.\n",
    "\n",
    "Your workflow is as follows:\n",
    "1. Extract or ask for the city name if it's not already provided.\n",
    "2. Handoff the city name to the Geo Agent to get the lat and lon.\n",
    "3. Handoff the lat and lon to the Weather Agent to get the weather.\n",
    "4. Display the weather info\n",
    "\n",
    "\n",
    "NEVER stop at step 2. You MUST alwasy proceed to step 3 once the lat and lon are available.\n",
    "ALWAYS pass the lat and lon to weather_agent as input when the lat and lon are available.\n",
    "ALWAYS reply in Mandarin.\n",
    "\"\"\"\n",
    "\n",
    "\n",
    "triage_agent = Agent(\n",
    "  name = \"Forecast Agent\",\n",
    "  instructions = instructions,\n",
    "  handoffs= [geo_agent, weather_agent]\n",
    ")\n",
    "\n",
    "geo_agent.handoffs.append(triage_agent)\n",
    "weather_agent.handoffs.append(triage_agent)\n",
    "\n",
    "messages = []\n",
    "async def chat_weather(prompt, history):\n",
    "  result = await Runner.run(triage_agent, prompt)\n",
    "  return result.final_output"
   ]
  },
  {
   "cell_type": "code",
   "execution_count": null,
   "id": "1375c711",
   "metadata": {},
   "outputs": [
    {
     "name": "stdout",
     "output_type": "stream",
     "text": [
      "* Running on local URL:  http://127.0.0.1:7873\n",
      "* To create a public link, set `share=True` in `launch()`.\n"
     ]
    },
    {
     "data": {
      "text/html": [
       "<div><iframe src=\"http://127.0.0.1:7873/\" width=\"100%\" height=\"500\" allow=\"autoplay; camera; microphone; clipboard-read; clipboard-write;\" frameborder=\"0\" allowfullscreen></iframe></div>"
      ],
      "text/plain": [
       "<IPython.core.display.HTML object>"
      ]
     },
     "metadata": {},
     "output_type": "display_data"
    },
    {
     "data": {
      "text/plain": []
     },
     "execution_count": 98,
     "metadata": {},
     "output_type": "execute_result"
    },
    {
     "name": "stdout",
     "output_type": "stream",
     "text": [
      "GeoLocation(name='Cheras', lat='3.0991919', lon='101.7374229')\n",
      "WeatherInfo(main='Rain', min='30.62', max='30.62')\n",
      "GeoLocation(name='Ipoh', lat='4.5986817', lon='101.0900236')\n",
      "WeatherInfo(main='Clouds', min='27.86', max='29.93')\n"
     ]
    }
   ],
   "source": [
    "def greet(message, history, audio):\n",
    "  print(history)\n",
    "  return \"Hello, \" + message +\"!\"\n",
    "\n",
    "\n",
    "microphone = gr.Microphone()\n",
    "\n",
    "gr.ChatInterface(\n",
    "  fn=chat_weather, \n",
    "  type=\"messages\"\n",
    ").launch()"
   ]
  }
 ],
 "metadata": {
  "kernelspec": {
   "display_name": ".venv",
   "language": "python",
   "name": "python3"
  },
  "language_info": {
   "codemirror_mode": {
    "name": "ipython",
    "version": 3
   },
   "file_extension": ".py",
   "mimetype": "text/x-python",
   "name": "python",
   "nbconvert_exporter": "python",
   "pygments_lexer": "ipython3",
   "version": "3.12.5"
  }
 },
 "nbformat": 4,
 "nbformat_minor": 5
}
